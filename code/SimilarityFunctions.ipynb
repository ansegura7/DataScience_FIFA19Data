{
 "cells": [
  {
   "cell_type": "markdown",
   "metadata": {},
   "source": [
    "# Visual and Data Analysis - FIFA 19 Players\n",
    "- **Created by Andrés Segura Tinoco**\n",
    "- **Created on May 20, 2019**"
   ]
  },
  {
   "cell_type": "markdown",
   "metadata": {},
   "source": [
    "# 5. Analysis of Similarity\n",
    "## Loading main libraries and data"
   ]
  },
  {
   "cell_type": "code",
   "execution_count": 1,
   "metadata": {},
   "outputs": [],
   "source": [
    "# Load the Pandas libraries\n",
    "import pandas as pd\n",
    "from sklearn.decomposition import PCA\n",
    "from sklearn.preprocessing import StandardScaler\n",
    "import numpy as np\n",
    "from collections import OrderedDict"
   ]
  },
  {
   "cell_type": "code",
   "execution_count": 2,
   "metadata": {},
   "outputs": [],
   "source": [
    "# Load Similarity libraries\n",
    "from scipy import stats as ss\n",
    "import sklearn.metrics.pairwise as sm"
   ]
  },
  {
   "cell_type": "code",
   "execution_count": 3,
   "metadata": {},
   "outputs": [],
   "source": [
    "# Load visualization libraries\n",
    "import matplotlib.pyplot as plt\n",
    "import seaborn as sns"
   ]
  },
  {
   "cell_type": "code",
   "execution_count": 4,
   "metadata": {},
   "outputs": [],
   "source": [
    "# Read FIFA 19 players data only using the current skill values\n",
    "dataURL = \"https://raw.githubusercontent.com/ansegura7/DataScience_FIFA19Data/master/data/fifa19_overall_data.csv\"\n",
    "rawdata = pd.read_csv(dataURL)"
   ]
  },
  {
   "cell_type": "code",
   "execution_count": 5,
   "metadata": {},
   "outputs": [],
   "source": [
    "# Function that obtains the numerical data from the data frame\n",
    "def getNumericalData(data, quality):\n",
    "    numData = pd.DataFrame()\n",
    "    \n",
    "    # Create DataFrame\n",
    "    for col in data.columns:\n",
    "        if (str(data[col].dtype) != \"object\"):\n",
    "            numData[col] = data[col]\n",
    "    \n",
    "    # Remove columns that are not relevant for the analysis\n",
    "    nonColumns = [\"Order\", \"ID\", \"Overall\", \"Potential\", \"Value €\", \"Wage €\", \"Release Clause €\"]\n",
    "    numData = numData.drop(nonColumns, axis=1)\n",
    "    \n",
    "    # Data Quality process\n",
    "    if(quality and len(numData.columns) > 0):\n",
    "        numData = numData.fillna(numData.mean())\n",
    "    \n",
    "    print(numData.shape)\n",
    "    return numData;"
   ]
  },
  {
   "cell_type": "code",
   "execution_count": 6,
   "metadata": {},
   "outputs": [
    {
     "data": {
      "text/plain": [
       "85"
      ]
     },
     "execution_count": 6,
     "metadata": {},
     "output_type": "execute_result"
    }
   ],
   "source": [
    "# Set a Overall threshold\n",
    "threshold = 85\n",
    "threshold"
   ]
  },
  {
   "cell_type": "code",
   "execution_count": 7,
   "metadata": {},
   "outputs": [
    {
     "data": {
      "text/plain": [
       "110"
      ]
     },
     "execution_count": 7,
     "metadata": {},
     "output_type": "execute_result"
    }
   ],
   "source": [
    "# Filter/Delete player with an overall below the threshold\n",
    "rawdata = rawdata.loc[rawdata[\"Overall\"] >= threshold]\n",
    "len(rawdata)"
   ]
  },
  {
   "cell_type": "code",
   "execution_count": 8,
   "metadata": {},
   "outputs": [
    {
     "name": "stdout",
     "output_type": "stream",
     "text": [
      "(110, 68)\n"
     ]
    },
    {
     "data": {
      "text/html": [
       "<div>\n",
       "<style scoped>\n",
       "    .dataframe tbody tr th:only-of-type {\n",
       "        vertical-align: middle;\n",
       "    }\n",
       "\n",
       "    .dataframe tbody tr th {\n",
       "        vertical-align: top;\n",
       "    }\n",
       "\n",
       "    .dataframe thead th {\n",
       "        text-align: right;\n",
       "    }\n",
       "</style>\n",
       "<table border=\"1\" class=\"dataframe\">\n",
       "  <thead>\n",
       "    <tr style=\"text-align: right;\">\n",
       "      <th></th>\n",
       "      <th>Age</th>\n",
       "      <th>Special</th>\n",
       "      <th>International Reputation</th>\n",
       "      <th>Weak Foot</th>\n",
       "      <th>Skill Moves</th>\n",
       "      <th>Jersey Number</th>\n",
       "      <th>HeightMts</th>\n",
       "      <th>WeightLbs</th>\n",
       "      <th>LS</th>\n",
       "      <th>ST</th>\n",
       "      <th>...</th>\n",
       "      <th>Penalties</th>\n",
       "      <th>Composure</th>\n",
       "      <th>Marking</th>\n",
       "      <th>StandingTackle</th>\n",
       "      <th>SlidingTackle</th>\n",
       "      <th>GKDiving</th>\n",
       "      <th>GKHandling</th>\n",
       "      <th>GKKicking</th>\n",
       "      <th>GKPositioning</th>\n",
       "      <th>GKReflexes</th>\n",
       "    </tr>\n",
       "  </thead>\n",
       "  <tbody>\n",
       "    <tr>\n",
       "      <th>0</th>\n",
       "      <td>31</td>\n",
       "      <td>2202</td>\n",
       "      <td>5.0</td>\n",
       "      <td>4.0</td>\n",
       "      <td>4.0</td>\n",
       "      <td>10.0</td>\n",
       "      <td>1.70</td>\n",
       "      <td>159.0</td>\n",
       "      <td>88</td>\n",
       "      <td>88</td>\n",
       "      <td>...</td>\n",
       "      <td>75.0</td>\n",
       "      <td>96.0</td>\n",
       "      <td>33.0</td>\n",
       "      <td>28.0</td>\n",
       "      <td>26.0</td>\n",
       "      <td>6.0</td>\n",
       "      <td>11.0</td>\n",
       "      <td>15.0</td>\n",
       "      <td>14.0</td>\n",
       "      <td>8.0</td>\n",
       "    </tr>\n",
       "    <tr>\n",
       "      <th>1</th>\n",
       "      <td>33</td>\n",
       "      <td>2228</td>\n",
       "      <td>5.0</td>\n",
       "      <td>4.0</td>\n",
       "      <td>5.0</td>\n",
       "      <td>7.0</td>\n",
       "      <td>1.88</td>\n",
       "      <td>183.0</td>\n",
       "      <td>91</td>\n",
       "      <td>91</td>\n",
       "      <td>...</td>\n",
       "      <td>85.0</td>\n",
       "      <td>95.0</td>\n",
       "      <td>28.0</td>\n",
       "      <td>31.0</td>\n",
       "      <td>23.0</td>\n",
       "      <td>7.0</td>\n",
       "      <td>11.0</td>\n",
       "      <td>15.0</td>\n",
       "      <td>14.0</td>\n",
       "      <td>11.0</td>\n",
       "    </tr>\n",
       "    <tr>\n",
       "      <th>2</th>\n",
       "      <td>26</td>\n",
       "      <td>2143</td>\n",
       "      <td>5.0</td>\n",
       "      <td>5.0</td>\n",
       "      <td>5.0</td>\n",
       "      <td>10.0</td>\n",
       "      <td>1.75</td>\n",
       "      <td>150.0</td>\n",
       "      <td>84</td>\n",
       "      <td>84</td>\n",
       "      <td>...</td>\n",
       "      <td>81.0</td>\n",
       "      <td>94.0</td>\n",
       "      <td>27.0</td>\n",
       "      <td>24.0</td>\n",
       "      <td>33.0</td>\n",
       "      <td>9.0</td>\n",
       "      <td>9.0</td>\n",
       "      <td>15.0</td>\n",
       "      <td>15.0</td>\n",
       "      <td>11.0</td>\n",
       "    </tr>\n",
       "    <tr>\n",
       "      <th>3</th>\n",
       "      <td>27</td>\n",
       "      <td>1471</td>\n",
       "      <td>4.0</td>\n",
       "      <td>3.0</td>\n",
       "      <td>1.0</td>\n",
       "      <td>1.0</td>\n",
       "      <td>1.93</td>\n",
       "      <td>168.0</td>\n",
       "      <td>0</td>\n",
       "      <td>0</td>\n",
       "      <td>...</td>\n",
       "      <td>40.0</td>\n",
       "      <td>68.0</td>\n",
       "      <td>15.0</td>\n",
       "      <td>21.0</td>\n",
       "      <td>13.0</td>\n",
       "      <td>90.0</td>\n",
       "      <td>85.0</td>\n",
       "      <td>87.0</td>\n",
       "      <td>88.0</td>\n",
       "      <td>94.0</td>\n",
       "    </tr>\n",
       "    <tr>\n",
       "      <th>4</th>\n",
       "      <td>27</td>\n",
       "      <td>2281</td>\n",
       "      <td>4.0</td>\n",
       "      <td>5.0</td>\n",
       "      <td>4.0</td>\n",
       "      <td>7.0</td>\n",
       "      <td>1.80</td>\n",
       "      <td>154.0</td>\n",
       "      <td>82</td>\n",
       "      <td>82</td>\n",
       "      <td>...</td>\n",
       "      <td>79.0</td>\n",
       "      <td>88.0</td>\n",
       "      <td>68.0</td>\n",
       "      <td>58.0</td>\n",
       "      <td>51.0</td>\n",
       "      <td>15.0</td>\n",
       "      <td>13.0</td>\n",
       "      <td>5.0</td>\n",
       "      <td>10.0</td>\n",
       "      <td>13.0</td>\n",
       "    </tr>\n",
       "  </tbody>\n",
       "</table>\n",
       "<p>5 rows × 68 columns</p>\n",
       "</div>"
      ],
      "text/plain": [
       "   Age  Special  International Reputation  Weak Foot  Skill Moves  \\\n",
       "0   31     2202                       5.0        4.0          4.0   \n",
       "1   33     2228                       5.0        4.0          5.0   \n",
       "2   26     2143                       5.0        5.0          5.0   \n",
       "3   27     1471                       4.0        3.0          1.0   \n",
       "4   27     2281                       4.0        5.0          4.0   \n",
       "\n",
       "   Jersey Number  HeightMts  WeightLbs  LS  ST  ...  Penalties  Composure  \\\n",
       "0           10.0       1.70      159.0  88  88  ...       75.0       96.0   \n",
       "1            7.0       1.88      183.0  91  91  ...       85.0       95.0   \n",
       "2           10.0       1.75      150.0  84  84  ...       81.0       94.0   \n",
       "3            1.0       1.93      168.0   0   0  ...       40.0       68.0   \n",
       "4            7.0       1.80      154.0  82  82  ...       79.0       88.0   \n",
       "\n",
       "   Marking  StandingTackle  SlidingTackle  GKDiving  GKHandling  GKKicking  \\\n",
       "0     33.0            28.0           26.0       6.0        11.0       15.0   \n",
       "1     28.0            31.0           23.0       7.0        11.0       15.0   \n",
       "2     27.0            24.0           33.0       9.0         9.0       15.0   \n",
       "3     15.0            21.0           13.0      90.0        85.0       87.0   \n",
       "4     68.0            58.0           51.0      15.0        13.0        5.0   \n",
       "\n",
       "   GKPositioning  GKReflexes  \n",
       "0           14.0         8.0  \n",
       "1           14.0        11.0  \n",
       "2           15.0        11.0  \n",
       "3           88.0        94.0  \n",
       "4           10.0        13.0  \n",
       "\n",
       "[5 rows x 68 columns]"
      ]
     },
     "execution_count": 8,
     "metadata": {},
     "output_type": "execute_result"
    }
   ],
   "source": [
    "# Get only numeric columns/variables\n",
    "numData = getNumericalData(rawdata, True)\n",
    "numData.head()"
   ]
  },
  {
   "cell_type": "markdown",
   "metadata": {},
   "source": [
    "## Apply PCA with Standardization"
   ]
  },
  {
   "cell_type": "code",
   "execution_count": 9,
   "metadata": {},
   "outputs": [],
   "source": [
    "# Function that apply Principal Component Analysis\n",
    "def applyPCA(data, std):\n",
    "    \n",
    "    # Standardize the Data\n",
    "    if std == True:\n",
    "        x = StandardScaler().fit_transform(data.values)\n",
    "    else:\n",
    "        x = data.values\n",
    "    \n",
    "    # Create a DataFrame from PCA\n",
    "    pca = PCA(n_components = 5)\n",
    "    pcaData = pca.fit_transform(x)\n",
    "    pcaDF = pd.DataFrame(data = pcaData, columns = [\"PC1\", \"PC2\", \"PC3\", \"PC4\", \"PC5\"])\n",
    "    \n",
    "    # Show the total explained variance ratio of model\n",
    "    print(sum(pca.explained_variance_ratio_) * 100)\n",
    "    \n",
    "    return pcaDF;"
   ]
  },
  {
   "cell_type": "code",
   "execution_count": 10,
   "metadata": {},
   "outputs": [
    {
     "name": "stdout",
     "output_type": "stream",
     "text": [
      "90.29064729125005\n"
     ]
    },
    {
     "data": {
      "text/html": [
       "<div>\n",
       "<style scoped>\n",
       "    .dataframe tbody tr th:only-of-type {\n",
       "        vertical-align: middle;\n",
       "    }\n",
       "\n",
       "    .dataframe tbody tr th {\n",
       "        vertical-align: top;\n",
       "    }\n",
       "\n",
       "    .dataframe thead th {\n",
       "        text-align: right;\n",
       "    }\n",
       "</style>\n",
       "<table border=\"1\" class=\"dataframe\">\n",
       "  <thead>\n",
       "    <tr style=\"text-align: right;\">\n",
       "      <th></th>\n",
       "      <th>PC1</th>\n",
       "      <th>PC2</th>\n",
       "      <th>PC3</th>\n",
       "      <th>PC4</th>\n",
       "      <th>PC5</th>\n",
       "      <th>Name</th>\n",
       "    </tr>\n",
       "  </thead>\n",
       "  <tbody>\n",
       "    <tr>\n",
       "      <th>0</th>\n",
       "      <td>-4.593481</td>\n",
       "      <td>-5.478033</td>\n",
       "      <td>1.127111</td>\n",
       "      <td>1.252885</td>\n",
       "      <td>-2.286953</td>\n",
       "      <td>L. Messi</td>\n",
       "    </tr>\n",
       "    <tr>\n",
       "      <th>1</th>\n",
       "      <td>-4.080334</td>\n",
       "      <td>-3.406618</td>\n",
       "      <td>4.334073</td>\n",
       "      <td>-0.485612</td>\n",
       "      <td>-2.817897</td>\n",
       "      <td>Cristiano Ronaldo</td>\n",
       "    </tr>\n",
       "    <tr>\n",
       "      <th>2</th>\n",
       "      <td>-4.048185</td>\n",
       "      <td>-5.546171</td>\n",
       "      <td>0.505673</td>\n",
       "      <td>0.616553</td>\n",
       "      <td>-1.730906</td>\n",
       "      <td>Neymar Jr</td>\n",
       "    </tr>\n",
       "    <tr>\n",
       "      <th>3</th>\n",
       "      <td>17.658339</td>\n",
       "      <td>-2.364764</td>\n",
       "      <td>-0.405911</td>\n",
       "      <td>1.214861</td>\n",
       "      <td>-1.087192</td>\n",
       "      <td>De Gea</td>\n",
       "    </tr>\n",
       "    <tr>\n",
       "      <th>4</th>\n",
       "      <td>-4.982714</td>\n",
       "      <td>-1.635134</td>\n",
       "      <td>0.422099</td>\n",
       "      <td>1.768055</td>\n",
       "      <td>-0.096850</td>\n",
       "      <td>K. De Bruyne</td>\n",
       "    </tr>\n",
       "    <tr>\n",
       "      <th>5</th>\n",
       "      <td>-3.976332</td>\n",
       "      <td>-4.619820</td>\n",
       "      <td>0.033077</td>\n",
       "      <td>0.196805</td>\n",
       "      <td>-0.812913</td>\n",
       "      <td>E. Hazard</td>\n",
       "    </tr>\n",
       "    <tr>\n",
       "      <th>6</th>\n",
       "      <td>-4.938277</td>\n",
       "      <td>-1.234102</td>\n",
       "      <td>-1.675975</td>\n",
       "      <td>2.188508</td>\n",
       "      <td>-1.576703</td>\n",
       "      <td>L. Modrić</td>\n",
       "    </tr>\n",
       "    <tr>\n",
       "      <th>7</th>\n",
       "      <td>-3.226382</td>\n",
       "      <td>-1.905506</td>\n",
       "      <td>2.889849</td>\n",
       "      <td>0.854872</td>\n",
       "      <td>-1.617664</td>\n",
       "      <td>L. Suárez</td>\n",
       "    </tr>\n",
       "    <tr>\n",
       "      <th>8</th>\n",
       "      <td>-2.522402</td>\n",
       "      <td>3.734704</td>\n",
       "      <td>0.422654</td>\n",
       "      <td>-0.277002</td>\n",
       "      <td>-1.654164</td>\n",
       "      <td>Sergio Ramos</td>\n",
       "    </tr>\n",
       "    <tr>\n",
       "      <th>9</th>\n",
       "      <td>18.786267</td>\n",
       "      <td>-1.573208</td>\n",
       "      <td>-0.490691</td>\n",
       "      <td>-0.521749</td>\n",
       "      <td>-0.242004</td>\n",
       "      <td>J. Oblak</td>\n",
       "    </tr>\n",
       "  </tbody>\n",
       "</table>\n",
       "</div>"
      ],
      "text/plain": [
       "         PC1       PC2       PC3       PC4       PC5               Name\n",
       "0  -4.593481 -5.478033  1.127111  1.252885 -2.286953           L. Messi\n",
       "1  -4.080334 -3.406618  4.334073 -0.485612 -2.817897  Cristiano Ronaldo\n",
       "2  -4.048185 -5.546171  0.505673  0.616553 -1.730906          Neymar Jr\n",
       "3  17.658339 -2.364764 -0.405911  1.214861 -1.087192             De Gea\n",
       "4  -4.982714 -1.635134  0.422099  1.768055 -0.096850       K. De Bruyne\n",
       "5  -3.976332 -4.619820  0.033077  0.196805 -0.812913          E. Hazard\n",
       "6  -4.938277 -1.234102 -1.675975  2.188508 -1.576703          L. Modrić\n",
       "7  -3.226382 -1.905506  2.889849  0.854872 -1.617664          L. Suárez\n",
       "8  -2.522402  3.734704  0.422654 -0.277002 -1.654164       Sergio Ramos\n",
       "9  18.786267 -1.573208 -0.490691 -0.521749 -0.242004           J. Oblak"
      ]
     },
     "execution_count": 10,
     "metadata": {},
     "output_type": "execute_result"
    }
   ],
   "source": [
    "# Apply the PCA algorithm\n",
    "pcaDF = applyPCA(numData, True)\n",
    "\n",
    "# Create the PCA data\n",
    "pcaDF = pd.concat([pcaDF, rawdata[[\"Name\"]]], axis = 1)\n",
    "pcaDF = pcaDF[pcaDF[\"PC1\"].notnull()]\n",
    "pcaDF.head(10)"
   ]
  },
  {
   "cell_type": "markdown",
   "metadata": {},
   "source": [
    "## Apply Similarity Functions"
   ]
  },
  {
   "cell_type": "code",
   "execution_count": 11,
   "metadata": {},
   "outputs": [],
   "source": [
    "# Returns the similarity between 2 vectors\n",
    "def getSimilarity(func, x, y):\n",
    "    similarity = 0\n",
    "    \n",
    "    if func == 'cosine':\n",
    "        result = sm.cosine_similarity([x], [y])\n",
    "        similarity = float(result[0])\n",
    "    \n",
    "    elif func == 'pearson':\n",
    "        corr, p_value = ss.pearsonr(x, y)\n",
    "        similarity = corr\n",
    "        \n",
    "    elif func == 'euclidean':\n",
    "        result = sm.euclidean_distances([x], [y])\n",
    "        similarity = float(result[0])\n",
    "    \n",
    "    elif func == 'manhattan':\n",
    "        result = sm.manhattan_distances([x], [y])\n",
    "        similarity = float(result[0])\n",
    "    \n",
    "    return similarity;"
   ]
  },
  {
   "cell_type": "code",
   "execution_count": 12,
   "metadata": {},
   "outputs": [],
   "source": [
    "# Get more N similar instances\n",
    "def getMoreSimilarInstances(df, func, n, target):\n",
    "    solution = dict()\n",
    "    simList = dict()\n",
    "    currVector = df[df['Name'] == target]\n",
    "    \n",
    "    if (currVector is not None) and (len(currVector) > 0):\n",
    "        currVector = currVector.values[0, 0:5];\n",
    "\n",
    "        for ix, row in df.iterrows():\n",
    "            currName = row['Name']\n",
    "            if currName != target:\n",
    "                neighVector = [row['PC1'], row['PC2'], row['PC3'], row['PC4'], row['PC5']]\n",
    "                similarity = getSimilarity(func, currVector, neighVector)\n",
    "                simList[currName] = similarity\n",
    "                \n",
    "        # Sorting dictionary in ascending order based on values\n",
    "        n = min(len(simList), n)\n",
    "        if n > 0:\n",
    "            simList = OrderedDict(sorted(simList.items(), key = lambda kv: kv[1], reverse = True))\n",
    "            ix = 0\n",
    "            for key, value in simList.items():\n",
    "                if ix < n:\n",
    "                    solution[key] = round(value, 4)\n",
    "                    ix += 1\n",
    "                else:\n",
    "                    break\n",
    "    \n",
    "    return solution;"
   ]
  },
  {
   "cell_type": "code",
   "execution_count": 13,
   "metadata": {},
   "outputs": [],
   "source": [
    "# Palette by positions dictionary\n",
    "posPalette = dict()\n",
    "posPalette[\"Neighbor\"] = \"#3366cc\"\n",
    "posPalette[\"Current\"] = \"#109618\"\n",
    "\n",
    "# Create scatter plot with players label\n",
    "def plot2DSimilarPlayers(df, corr, target):\n",
    "    fig, ax = plt.subplots(figsize = (10, 10))\n",
    "    \n",
    "    # Create temp data\n",
    "    players = list(solution.keys())\n",
    "    players.append(target)\n",
    "    data = pcaDF[pcaDF['Name'].isin(players)].copy()\n",
    "    data['Size'] = 1\n",
    "    data['Type'] = 'Neighbor'\n",
    "    data.loc[data.Name == target, 'Size'] = 2\n",
    "    data.loc[data.Name == target, 'Type'] = 'Current'\n",
    "    \n",
    "    # Create 2D scatter plot\n",
    "    plot = sns.scatterplot(ax = ax, data = data, x = \"PC1\", y = \"PC2\", hue = \"Type\", size = 'Size', palette = posPalette)\n",
    "    \n",
    "    # Add annotations one by one with a loop\n",
    "    for ix, row in data.iterrows():\n",
    "        lblName = row[\"Name\"]\n",
    "        if lblName != target:\n",
    "            lblName += '\\nR: ' + str(corr[lblName])\n",
    "        plot.text(row[\"PC1\"] + 0.02, row[\"PC2\"] - 0.03, lblName\n",
    "                  , horizontalalignment = \"left\", size = \"medium\", color = \"black\", weight = \"normal\")\n",
    "    \n",
    "    # Plot setup\n",
    "    ax.set_xlabel(\"PC 1\", fontsize = 12)\n",
    "    ax.set_ylabel(\"PC 2\", fontsize = 12)\n",
    "    ax.set_title(\"Similar Players in the Plane\", fontsize = 20)\n",
    "    ax.legend([\"Players\"], fontsize = 10, loc = 'lower right', frameon = True)\n",
    "    ax.grid()"
   ]
  },
  {
   "cell_type": "code",
   "execution_count": 14,
   "metadata": {},
   "outputs": [],
   "source": [
    "# Analysis params\n",
    "fSimilarity = 'cosine'\n",
    "nNeighbors = 10"
   ]
  },
  {
   "cell_type": "code",
   "execution_count": 15,
   "metadata": {},
   "outputs": [
    {
     "data": {
      "text/html": [
       "<div>\n",
       "<style scoped>\n",
       "    .dataframe tbody tr th:only-of-type {\n",
       "        vertical-align: middle;\n",
       "    }\n",
       "\n",
       "    .dataframe tbody tr th {\n",
       "        vertical-align: top;\n",
       "    }\n",
       "\n",
       "    .dataframe thead th {\n",
       "        text-align: right;\n",
       "    }\n",
       "</style>\n",
       "<table border=\"1\" class=\"dataframe\">\n",
       "  <thead>\n",
       "    <tr style=\"text-align: right;\">\n",
       "      <th></th>\n",
       "      <th>Similarity</th>\n",
       "    </tr>\n",
       "  </thead>\n",
       "  <tbody>\n",
       "    <tr>\n",
       "      <th>Neymar Jr</th>\n",
       "      <td>0.9901</td>\n",
       "    </tr>\n",
       "    <tr>\n",
       "      <th>E. Hazard</th>\n",
       "      <td>0.9659</td>\n",
       "    </tr>\n",
       "    <tr>\n",
       "      <th>M. Reus</th>\n",
       "      <td>0.9656</td>\n",
       "    </tr>\n",
       "    <tr>\n",
       "      <th>S. Agüero</th>\n",
       "      <td>0.9361</td>\n",
       "    </tr>\n",
       "    <tr>\n",
       "      <th>A. Sánchez</th>\n",
       "      <td>0.9196</td>\n",
       "    </tr>\n",
       "    <tr>\n",
       "      <th>A. Griezmann</th>\n",
       "      <td>0.9007</td>\n",
       "    </tr>\n",
       "    <tr>\n",
       "      <th>T. Müller</th>\n",
       "      <td>0.8916</td>\n",
       "    </tr>\n",
       "    <tr>\n",
       "      <th>David Silva</th>\n",
       "      <td>0.8714</td>\n",
       "    </tr>\n",
       "    <tr>\n",
       "      <th>L. Suárez</th>\n",
       "      <td>0.8529</td>\n",
       "    </tr>\n",
       "    <tr>\n",
       "      <th>M. Salah</th>\n",
       "      <td>0.8484</td>\n",
       "    </tr>\n",
       "  </tbody>\n",
       "</table>\n",
       "</div>"
      ],
      "text/plain": [
       "              Similarity\n",
       "Neymar Jr         0.9901\n",
       "E. Hazard         0.9659\n",
       "M. Reus           0.9656\n",
       "S. Agüero         0.9361\n",
       "A. Sánchez        0.9196\n",
       "A. Griezmann      0.9007\n",
       "T. Müller         0.8916\n",
       "David Silva       0.8714\n",
       "L. Suárez         0.8529\n",
       "M. Salah          0.8484"
      ]
     },
     "execution_count": 15,
     "metadata": {},
     "output_type": "execute_result"
    }
   ],
   "source": [
    "# Show the N players most similar to 'L. Messi' using cosine metric\n",
    "target = 'L. Messi'\n",
    "solution = getMoreSimilarInstances(pcaDF, fSimilarity, nNeighbors, target)\n",
    "pd.DataFrame.from_dict(solution, orient='index', columns=['Similarity'])"
   ]
  },
  {
   "cell_type": "code",
   "execution_count": 16,
   "metadata": {},
   "outputs": [
    {
     "data": {
      "image/png": "[encoded data removed]",
      "text/plain": [
       "<Figure size 720x720 with 1 Axes>"
      ]
     },
     "metadata": {
      "needs_background": "light"
     },
     "output_type": "display_data"
    }
   ],
   "source": [
    "# Plot the N players most similar to 'L. Messi' using cosine metric\n",
    "plot2DSimilarPlayers(pcaDF, solution, target)"
   ]
  },
  {
   "cell_type": "code",
   "execution_count": 17,
   "metadata": {},
   "outputs": [
    {
     "data": {
      "text/html": [
       "<div>\n",
       "<style scoped>\n",
       "    .dataframe tbody tr th:only-of-type {\n",
       "        vertical-align: middle;\n",
       "    }\n",
       "\n",
       "    .dataframe tbody tr th {\n",
       "        vertical-align: top;\n",
       "    }\n",
       "\n",
       "    .dataframe thead th {\n",
       "        text-align: right;\n",
       "    }\n",
       "</style>\n",
       "<table border=\"1\" class=\"dataframe\">\n",
       "  <thead>\n",
       "    <tr style=\"text-align: right;\">\n",
       "      <th></th>\n",
       "      <th>Similarity</th>\n",
       "    </tr>\n",
       "  </thead>\n",
       "  <tbody>\n",
       "    <tr>\n",
       "      <th>David Silva</th>\n",
       "      <td>0.9338</td>\n",
       "    </tr>\n",
       "    <tr>\n",
       "      <th>Iniesta</th>\n",
       "      <td>0.9076</td>\n",
       "    </tr>\n",
       "    <tr>\n",
       "      <th>K. De Bruyne</th>\n",
       "      <td>0.8990</td>\n",
       "    </tr>\n",
       "    <tr>\n",
       "      <th>Thiago</th>\n",
       "      <td>0.8915</td>\n",
       "    </tr>\n",
       "    <tr>\n",
       "      <th>M. Pjanić</th>\n",
       "      <td>0.8666</td>\n",
       "    </tr>\n",
       "    <tr>\n",
       "      <th>M. Verratti</th>\n",
       "      <td>0.8520</td>\n",
       "    </tr>\n",
       "    <tr>\n",
       "      <th>Marcelo</th>\n",
       "      <td>0.8486</td>\n",
       "    </tr>\n",
       "    <tr>\n",
       "      <th>Coutinho</th>\n",
       "      <td>0.8350</td>\n",
       "    </tr>\n",
       "    <tr>\n",
       "      <th>Koke</th>\n",
       "      <td>0.8302</td>\n",
       "    </tr>\n",
       "    <tr>\n",
       "      <th>J. Rodríguez</th>\n",
       "      <td>0.8073</td>\n",
       "    </tr>\n",
       "  </tbody>\n",
       "</table>\n",
       "</div>"
      ],
      "text/plain": [
       "              Similarity\n",
       "David Silva       0.9338\n",
       "Iniesta           0.9076\n",
       "K. De Bruyne      0.8990\n",
       "Thiago            0.8915\n",
       "M. Pjanić         0.8666\n",
       "M. Verratti       0.8520\n",
       "Marcelo           0.8486\n",
       "Coutinho          0.8350\n",
       "Koke              0.8302\n",
       "J. Rodríguez      0.8073"
      ]
     },
     "execution_count": 17,
     "metadata": {},
     "output_type": "execute_result"
    }
   ],
   "source": [
    "# Show the N players most similar to 'L. Modrić' using cosine metric\n",
    "target = 'L. Modrić'\n",
    "solution = getMoreSimilarInstances(pcaDF, fSimilarity, nNeighbors, target)\n",
    "pd.DataFrame.from_dict(solution, orient='index', columns=['Similarity'])"
   ]
  },
  {
   "cell_type": "code",
   "execution_count": 18,
   "metadata": {},
   "outputs": [
    {
     "data": {
      "image/png": "[encoded data removed]",
      "text/plain": [
       "<Figure size 720x720 with 1 Axes>"
      ]
     },
     "metadata": {
      "needs_background": "light"
     },
     "output_type": "display_data"
    }
   ],
   "source": [
    "# Plot the N players most similar to 'L. Modrić' using cosine metric\n",
    "plot2DSimilarPlayers(pcaDF, solution, target)"
   ]
  },
  {
   "cell_type": "code",
   "execution_count": 19,
   "metadata": {},
   "outputs": [
    {
     "data": {
      "text/html": [
       "<div>\n",
       "<style scoped>\n",
       "    .dataframe tbody tr th:only-of-type {\n",
       "        vertical-align: middle;\n",
       "    }\n",
       "\n",
       "    .dataframe tbody tr th {\n",
       "        vertical-align: top;\n",
       "    }\n",
       "\n",
       "    .dataframe thead th {\n",
       "        text-align: right;\n",
       "    }\n",
       "</style>\n",
       "<table border=\"1\" class=\"dataframe\">\n",
       "  <thead>\n",
       "    <tr style=\"text-align: right;\">\n",
       "      <th></th>\n",
       "      <th>Similarity</th>\n",
       "    </tr>\n",
       "  </thead>\n",
       "  <tbody>\n",
       "    <tr>\n",
       "      <th>G. Chiellini</th>\n",
       "      <td>0.9686</td>\n",
       "    </tr>\n",
       "    <tr>\n",
       "      <th>R. Varane</th>\n",
       "      <td>0.9663</td>\n",
       "    </tr>\n",
       "    <tr>\n",
       "      <th>M. Benatia</th>\n",
       "      <td>0.9628</td>\n",
       "    </tr>\n",
       "    <tr>\n",
       "      <th>Miranda</th>\n",
       "      <td>0.9621</td>\n",
       "    </tr>\n",
       "    <tr>\n",
       "      <th>V. van Dijk</th>\n",
       "      <td>0.9586</td>\n",
       "    </tr>\n",
       "    <tr>\n",
       "      <th>Pepe</th>\n",
       "      <td>0.9415</td>\n",
       "    </tr>\n",
       "    <tr>\n",
       "      <th>T. Alderweireld</th>\n",
       "      <td>0.9300</td>\n",
       "    </tr>\n",
       "    <tr>\n",
       "      <th>N. Otamendi</th>\n",
       "      <td>0.9225</td>\n",
       "    </tr>\n",
       "    <tr>\n",
       "      <th>J. Boateng</th>\n",
       "      <td>0.9140</td>\n",
       "    </tr>\n",
       "    <tr>\n",
       "      <th>L. Bonucci</th>\n",
       "      <td>0.9100</td>\n",
       "    </tr>\n",
       "  </tbody>\n",
       "</table>\n",
       "</div>"
      ],
      "text/plain": [
       "                 Similarity\n",
       "G. Chiellini         0.9686\n",
       "R. Varane            0.9663\n",
       "M. Benatia           0.9628\n",
       "Miranda              0.9621\n",
       "V. van Dijk          0.9586\n",
       "Pepe                 0.9415\n",
       "T. Alderweireld      0.9300\n",
       "N. Otamendi          0.9225\n",
       "J. Boateng           0.9140\n",
       "L. Bonucci           0.9100"
      ]
     },
     "execution_count": 19,
     "metadata": {},
     "output_type": "execute_result"
    }
   ],
   "source": [
    "# Show the N players most similar to 'D. Godín' using cosine metric\n",
    "target = 'D. Godín'\n",
    "solution = getMoreSimilarInstances(pcaDF, fSimilarity, nNeighbors, target)\n",
    "pd.DataFrame.from_dict(solution, orient='index', columns=['Similarity'])"
   ]
  },
  {
   "cell_type": "code",
   "execution_count": 20,
   "metadata": {},
   "outputs": [
    {
     "data": {
      "image/png": "[encoded data removed]",
      "text/plain": [
       "<Figure size 720x720 with 1 Axes>"
      ]
     },
     "metadata": {
      "needs_background": "light"
     },
     "output_type": "display_data"
    }
   ],
   "source": [
    "# Plot the N players most similar to 'D. Godín' using cosine metric\n",
    "plot2DSimilarPlayers(pcaDF, solution, target)"
   ]
  },
  {
   "cell_type": "code",
   "execution_count": 21,
   "metadata": {},
   "outputs": [
    {
     "data": {
      "text/html": [
       "<div>\n",
       "<style scoped>\n",
       "    .dataframe tbody tr th:only-of-type {\n",
       "        vertical-align: middle;\n",
       "    }\n",
       "\n",
       "    .dataframe tbody tr th {\n",
       "        vertical-align: top;\n",
       "    }\n",
       "\n",
       "    .dataframe thead th {\n",
       "        text-align: right;\n",
       "    }\n",
       "</style>\n",
       "<table border=\"1\" class=\"dataframe\">\n",
       "  <thead>\n",
       "    <tr style=\"text-align: right;\">\n",
       "      <th></th>\n",
       "      <th>Similarity</th>\n",
       "    </tr>\n",
       "  </thead>\n",
       "  <tbody>\n",
       "    <tr>\n",
       "      <th>K. Navas</th>\n",
       "      <td>0.9971</td>\n",
       "    </tr>\n",
       "    <tr>\n",
       "      <th>T. Courtois</th>\n",
       "      <td>0.9943</td>\n",
       "    </tr>\n",
       "    <tr>\n",
       "      <th>G. Buffon</th>\n",
       "      <td>0.9938</td>\n",
       "    </tr>\n",
       "    <tr>\n",
       "      <th>J. Oblak</th>\n",
       "      <td>0.9931</td>\n",
       "    </tr>\n",
       "    <tr>\n",
       "      <th>H. Lloris</th>\n",
       "      <td>0.9925</td>\n",
       "    </tr>\n",
       "    <tr>\n",
       "      <th>W. Szczęsny</th>\n",
       "      <td>0.9917</td>\n",
       "    </tr>\n",
       "    <tr>\n",
       "      <th>S. Handanovič</th>\n",
       "      <td>0.9914</td>\n",
       "    </tr>\n",
       "    <tr>\n",
       "      <th>M. Neuer</th>\n",
       "      <td>0.9906</td>\n",
       "    </tr>\n",
       "    <tr>\n",
       "      <th>Alisson</th>\n",
       "      <td>0.9824</td>\n",
       "    </tr>\n",
       "    <tr>\n",
       "      <th>M. ter Stegen</th>\n",
       "      <td>0.9811</td>\n",
       "    </tr>\n",
       "  </tbody>\n",
       "</table>\n",
       "</div>"
      ],
      "text/plain": [
       "               Similarity\n",
       "K. Navas           0.9971\n",
       "T. Courtois        0.9943\n",
       "G. Buffon          0.9938\n",
       "J. Oblak           0.9931\n",
       "H. Lloris          0.9925\n",
       "W. Szczęsny        0.9917\n",
       "S. Handanovič      0.9914\n",
       "M. Neuer           0.9906\n",
       "Alisson            0.9824\n",
       "M. ter Stegen      0.9811"
      ]
     },
     "execution_count": 21,
     "metadata": {},
     "output_type": "execute_result"
    }
   ],
   "source": [
    "# Show the N players most similar to 'De Gea' using cosine metric\n",
    "target = 'De Gea'\n",
    "solution = getMoreSimilarInstances(pcaDF, fSimilarity, nNeighbors, target)\n",
    "pd.DataFrame.from_dict(solution, orient='index', columns=['Similarity'])"
   ]
  },
  {
   "cell_type": "code",
   "execution_count": 22,
   "metadata": {},
   "outputs": [
    {
     "data": {
      "image/png": "[encoded data removed]",
      "text/plain": [
       "<Figure size 720x720 with 1 Axes>"
      ]
     },
     "metadata": {
      "needs_background": "light"
     },
     "output_type": "display_data"
    }
   ],
   "source": [
    "# Plot the N players most similar to 'De Gea' using cosine metric\n",
    "plot2DSimilarPlayers(pcaDF, solution, target)"
   ]
  },
  {
   "cell_type": "markdown",
   "metadata": {},
   "source": [
    "## Insights"
   ]
  },
  {
   "cell_type": "markdown",
   "metadata": {},
   "source": [
    "- The N players most similar to a specific player can be calculated, using the similarity functions.\n",
    "- The results are directly related to the similarity function used."
   ]
  },
  {
   "cell_type": "markdown",
   "metadata": {},
   "source": [
    "---\n",
    "<a href=\"https://ansegura7.github.io/DataScience_FIFA19Data/\">&laquo; Home</a>"
   ]
  }
 ],
 "metadata": {
  "kernelspec": {
   "display_name": "Python 3",
   "language": "python",
   "name": "python3"
  },
  "language_info": {
   "codemirror_mode": {
    "name": "ipython",
    "version": 3
   },
   "file_extension": ".py",
   "mimetype": "text/x-python",
   "name": "python",
   "nbconvert_exporter": "python",
   "pygments_lexer": "ipython3",
   "version": "3.6.8"
  }
 },
 "nbformat": 4,
 "nbformat_minor": 2
}
